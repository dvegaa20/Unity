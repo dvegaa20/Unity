{
 "cells": [
  {
   "cell_type": "markdown",
   "metadata": {},
   "source": [
    "# Autores\n",
    "- Arturo Cristián Díaz López - A01709522\n",
    "- José Emiliano Riosmena Castañón - A01704245\n",
    "- Diego Vega Camacho - A0170442\n",
    "\n",
    "# Descripción\n",
    "El reto consiste en desarrollar un sistema multiagente para resolver una tarea cooperativa en un entorno 20x20 dinámicamente cambiante. El entorno del sistema multiagente es un mundo similar a una cuadrícula donde los agentes pueden moverse de su posición a una celda vecina si ya no hay ningún agente en esa ranura. En este entorno, la comida puede aparecer en cualquier celda menos en una. La celda especial, en la que no puede aparecer comida, se considera un depósito donde los agentes pueden traer y almacenar su comida. Un agente puede sólo puede saber si hay comida en una celda, si está visitándola. Inicialmente, la comida se coloca en algunas celdas aleatorias. Durante la ejecución, puede aparecer comida adicional dinámicamente en celdas seleccionadas al azar, excepto en la celda del depósito. Los agentes pueden tener/desempeñar diferentes roles (como explorador o recolector), comunicarse y cooperar para encontrar y recolectar alimentos de manera eficiente y efectiva.\n",
    "\n",
    "# Puntos a considerar\n",
    "- Inicialmente no hay comida en el entorno.\n",
    "- La semilla para generación de números aleatorios será 12345.\n",
    "- El depósito será generado al azar.\n",
    "- Cada 5 segundos se colocará una unidad de comida en algunas celdas.\n",
    "- La cantidad de celdas en las que colocará una unidad comida será definida al azar (entre 2 y 5 celdas).\n",
    "- Se colocará un total de 47 unidades de comida.\n",
    "- Número total de pasos (steps): 1500.\n",
    "- La cantidad total de alimentos que se puede almacenar en el depósito es infinito.\n",
    "- Hay un total de 5 agentes.\n",
    "- Cuando una unidad de comida es encontrado por un explorador o por un agente que ya lleva la comida, la posición de la comida se marca y se comunica a otros agentes.\n",
    "- Cuando un recolector encuentra una unidad comida, lo carga (gráficamente deberá cambia su forma para indicar que lleva comida). La capacidad máxima de comida que puede llevar un agentes es UNA unidad de comida.\n",
    "- Inicialmente, los agentes no son informados sobre la posición del depósito, pero una vez que lo encuentran, todos saben dónde está.\n",
    "\n",
    "# Criterios de evaluación\n",
    "Los criterios que se utilizarán para evaluar sus soluciones y seleccionar a los tres primeros ganadores son los siguientes:\n",
    "- Aplicación original, innovadora y efectiva de algoritmos computacionales para resolver problemas específicos.\n",
    "- El rendimiento de la implementación. El rendimiento de la implementación ejecutable se medirá en función de la cantidad de alimentos que recolecte el sistema multiagente en una cantidad de pasos de simulación.\n",
    "- La calidad de la descripción de análisis, diseño e implementación del sistema multiagente, la elegancia de su diseño e implementación.\n"
   ]
  },
  {
   "cell_type": "code",
   "execution_count": null,
   "metadata": {},
   "outputs": [],
   "source": [
    "# Importar las clases y funciones necesarias de Mesa\n",
    "from mesa import Agent, Model\n",
    "from mesa.time import RandomActivation\n",
    "from mesa.space import MultiGrid\n",
    "from mesa.datacollection import DataCollector\n",
    "\n",
    "# Importar las bibliotecas de visualización\n",
    "%matplotlib inline\n",
    "import matplotlib\n",
    "import matplotlib.pyplot as plt\n",
    "import matplotlib.animation as animation\n",
    "\n",
    "# Configuraciones específicas para la animación\n",
    "plt.rcParams[\"animation.html\"] = \"jshtml\"\n",
    "matplotlib.rcParams['animation.embed_limit'] = 2**128\n",
    "\n",
    "# Configurar la semilla para la generación de números aleatorios\n",
    "import random\n",
    "import numpy as np\n",
    "random.seed(12345)"
   ]
  },
  {
   "cell_type": "code",
   "execution_count": null,
   "metadata": {},
   "outputs": [],
   "source": [
    "class food_explorer(Agent):\n",
    "    def __init__ (self, unique_id, model, energy):\n",
    "        super().__init__(unique_id, model)\n",
    "        self.type = \"food_explorer\"\n",
    "        self.depot_found = False\n",
    "\n",
    "    def move_random(self):\n",
    "        possible_steps = self.model.grid.get_neighborhood(\n",
    "            self.pos,\n",
    "            moore=True,\n",
    "            include_center=False)\n",
    "        new_position = random.choice(possible_steps)\n",
    "        self.model.grid.move_agent(self, new_position)\n",
    "\n",
    "    def step(self):\n",
    "        if self.depot_found == False:\n",
    "            self.move_random()\n",
    "\n",
    "            if self.model\n",
    "        else:\n",
    "            "
   ]
  },
  {
   "cell_type": "code",
   "execution_count": null,
   "metadata": {},
   "outputs": [],
   "source": [
    "class food_collector(Agent):\n",
    "    def __init__ (self, unique_id, model):\n",
    "        super().__init__(unique_id, model)\n",
    "        self.type = \"food_collector\""
   ]
  },
  {
   "cell_type": "code",
   "execution_count": null,
   "metadata": {},
   "outputs": [],
   "source": [
    "class food_deposit(Agent):\n",
    "    def __init__ (self, unique_id, model):\n",
    "        super().__init__(unique_id, model)\n",
    "        self.type = \"food_deposit\""
   ]
  },
  {
   "cell_type": "code",
   "execution_count": null,
   "metadata": {},
   "outputs": [],
   "source": [
    "class food_model(Model):\n",
    "    def __init__ (self, width, height, num_explorers, num_collectors, num_depots):\n",
    "        "
   ]
  },
  {
   "cell_type": "code",
   "execution_count": null,
   "metadata": {},
   "outputs": [],
   "source": [
    "# Configuración del modelo\n",
    "WIDTH = 20\n",
    "HEIGHT = 20\n",
    "NUM_EXPLORERS = 2\n",
    "NUM_COLLECTORS = 2\n",
    "NUM_DEPOTS = 1"
   ]
  },
  {
   "cell_type": "code",
   "execution_count": null,
   "metadata": {},
   "outputs": [],
   "source": [
    "model = food_model(WIDTH, HEIGHT, NUM_EXPLORERS, NUM_COLLECTORS, NUM_DEPOTS)\n",
    "\n",
    "for i in range(1500):\n",
    "    model.step()\n",
    "\n",
    "data = model.datacollector.get_model_vars_dataframe()"
   ]
  }
 ],
 "metadata": {
  "language_info": {
   "name": "python"
  }
 },
 "nbformat": 4,
 "nbformat_minor": 2
}
